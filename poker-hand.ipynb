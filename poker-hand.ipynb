{
 "cells": [
  {
   "cell_type": "code",
   "execution_count": 1,
   "metadata": {
    "collapsed": true
   },
   "outputs": [],
   "source": [
    "'''\n",
    "more description goes here: http://archive.ics.uci.edu/ml/datasets/Poker+Hand\n",
    "'''\n",
    "\n",
    "%matplotlib inline\n",
    "\n",
    "import matplotlib\n",
    "import numpy as np\n",
    "import matplotlib.pyplot as plt"
   ]
  },
  {
   "cell_type": "code",
   "execution_count": 2,
   "metadata": {
    "collapsed": false
   },
   "outputs": [],
   "source": [
    "x = range(10)\n",
    "y = map(lambda i: i**2, x)"
   ]
  },
  {
   "cell_type": "code",
   "execution_count": 3,
   "metadata": {
    "collapsed": false,
    "scrolled": true
   },
   "outputs": [],
   "source": [
    "# plt.plot(x,y)"
   ]
  },
  {
   "cell_type": "code",
   "execution_count": 4,
   "metadata": {
    "collapsed": false
   },
   "outputs": [],
   "source": [
    "# plt.plot(y,x)"
   ]
  },
  {
   "cell_type": "code",
   "execution_count": 5,
   "metadata": {
    "collapsed": true
   },
   "outputs": [],
   "source": [
    "data = np.genfromtxt(\"data/poker-hand/poker-hand-testing.data\",delimiter=\",\")"
   ]
  },
  {
   "cell_type": "code",
   "execution_count": 6,
   "metadata": {
    "collapsed": false
   },
   "outputs": [
    {
     "name": "stdout",
     "output_type": "stream",
     "text": [
      "(1000000, 11)\n"
     ]
    }
   ],
   "source": [
    "print(data.shape)\n",
    "w,h = data.shape"
   ]
  },
  {
   "cell_type": "code",
   "execution_count": 36,
   "metadata": {
    "collapsed": false
   },
   "outputs": [
    {
     "name": "stdout",
     "output_type": "stream",
     "text": [
      "[[  2.   5.   3.  12.   3.   1.   4.  13.   2.  10.   0.]\n",
      " [  3.   5.   3.   9.   4.   8.   1.   6.   2.  11.   0.]\n",
      " [  2.  12.   1.   4.   2.   4.   3.   4.   2.   3.   3.]\n",
      " [  4.  13.   1.   7.   1.   5.   4.   2.   1.  10.   0.]\n",
      " [  2.   2.   3.   2.   4.  12.   1.   8.   1.  13.   1.]]\n",
      "[[  3.   4.   2.   9.   2.   3.   1.  10.   3.  12.   0.]\n",
      " [  3.   3.   4.   2.   3.   8.   4.  12.   3.  13.   0.]\n",
      " [  2.   2.   4.   4.   4.   9.   4.   8.   1.   9.   1.]\n",
      " [  4.  10.   3.   3.   2.   2.   4.  11.   1.   3.   1.]\n",
      " [  3.   9.   4.   7.   4.   8.   2.   7.   4.  13.   1.]]\n"
     ]
    }
   ],
   "source": [
    "print(data[:5])\n",
    "\n",
    "# np.random.shuffle(data)\n",
    "# print(data[:5])"
   ]
  },
  {
   "cell_type": "code",
   "execution_count": 37,
   "metadata": {
    "collapsed": true
   },
   "outputs": [],
   "source": [
    "from sklearn.multiclass import OneVsRestClassifier\n",
    "from sklearn.svm import LinearSVC, SVC\n",
    "import random"
   ]
  },
  {
   "cell_type": "code",
   "execution_count": 44,
   "metadata": {
    "collapsed": false
   },
   "outputs": [],
   "source": [
    "def test_score(sample_rate, split_rate):\n",
    "#     sample_rate = 0.001\n",
    "#     split_rate = 0.8\n",
    "    w_sample = int(w * sample_rate)\n",
    "    random_offset = int(random.uniform(w_sample, w - w_sample))\n",
    "\n",
    "    data_test = data[random_offset:w_sample+random_offset]\n",
    "    print(data_test.shape)\n",
    "\n",
    "    w_dataset, h_dataset = data_test.shape\n",
    "    X = data_test[:,:10]\n",
    "    Y = data_test[:,10]\n",
    "\n",
    "    data_test_sorted = data_test[data_test[:,10].argsort()]\n",
    "    # X = data_test_sorted[:,:10]\n",
    "    # Y = data_test_sorted[:,10]\n",
    "\n",
    "    X_train = X[:int(w_dataset * split_rate)]\n",
    "    Y_train = Y[:int(w_dataset * split_rate)]\n",
    "\n",
    "    X_test = X[:int(w_dataset * (1-split_rate))]\n",
    "    Y_test = Y[:int(w_dataset * (1-split_rate))]\n",
    "\n",
    "    print(\"train\", X_train.shape)\n",
    "    print(\"test\", X_test.shape)\n",
    "    \n",
    "    #OneVsRestClassifier(LinearSVC(random_state=0)).fit(X, y).predict(X)\n",
    "\n",
    "#     svc = LinearSVC(random_state=0)\n",
    "    svc = SVC(random_state=0)\n",
    "    classifier = OneVsRestClassifier(svc,n_jobs=4).fit(X_train,Y_train)\n",
    "\n",
    "    print(classifier.classes_)\n",
    "    \n",
    "    # Y_hat = classifier.predict(X_train)\n",
    "    score_train = classifier.score(X_train, Y_train)\n",
    "    score_test = classifier.score(X_test, Y_test)\n",
    "    # print(Y_hat[:100])\n",
    "    #print(Y_test)\n",
    "\n",
    "    print(\"train\", score_train)\n",
    "    print(\"test\", score_test)\n",
    "    \n",
    "    return score_train,score_test"
   ]
  },
  {
   "cell_type": "code",
   "execution_count": null,
   "metadata": {
    "collapsed": false
   },
   "outputs": [],
   "source": []
  },
  {
   "cell_type": "code",
   "execution_count": null,
   "metadata": {
    "collapsed": false
   },
   "outputs": [
    {
     "name": "stdout",
     "output_type": "stream",
     "text": [
      "(10000, 11)\n",
      "('train', (9000, 10))\n",
      "('test', (999, 10))\n",
      "[ 0.  1.  2.  3.  4.  5.  6.  7.]\n",
      "('train', 0.88455555555555554)\n",
      "('test', 0.88888888888888884)\n",
      "(20000, 11)\n",
      "('train', (18000, 10))\n",
      "('test', (1999, 10))\n",
      "[ 0.  1.  2.  3.  4.  5.  6.  7.  8.]\n"
     ]
    }
   ],
   "source": [
    "#test_score(0.001, 0.8)\n",
    "rates = []\n",
    "scores_test = []\n",
    "scores_train = []\n",
    "for r in range(1, 10):\n",
    "    rate = r/100.0\n",
    "    score_train, score_test = test_score(rate, 0.9)\n",
    "#     rates.append(rate)\n",
    "    scores_train.append(score_train)\n",
    "    scores_test.append(score_test)"
   ]
  },
  {
   "cell_type": "code",
   "execution_count": null,
   "metadata": {
    "collapsed": false,
    "scrolled": true
   },
   "outputs": [],
   "source": [
    "# print(', '.join(str()))\n",
    "# for x in scores:\n",
    "#     print x\n",
    "\n",
    "plt.plot(scores_train)\n",
    "plt.plot(scores_test)\n",
    "# plt.plot(rates, scores)\n",
    "# plt.scatter(rates, scores)"
   ]
  },
  {
   "cell_type": "code",
   "execution_count": null,
   "metadata": {
    "collapsed": true
   },
   "outputs": [],
   "source": []
  }
 ],
 "metadata": {
  "kernelspec": {
   "display_name": "Python 2",
   "language": "python",
   "name": "python2"
  },
  "language_info": {
   "codemirror_mode": {
    "name": "ipython",
    "version": 2
   },
   "file_extension": ".py",
   "mimetype": "text/x-python",
   "name": "python",
   "nbconvert_exporter": "python",
   "pygments_lexer": "ipython2",
   "version": "2.7.11"
  }
 },
 "nbformat": 4,
 "nbformat_minor": 0
}
